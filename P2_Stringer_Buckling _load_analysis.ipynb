{
 "cells": [
  {
   "cell_type": "markdown",
   "metadata": {},
   "source": [
    "**Problem Description**\n",
    "An aircraft fuselage uses thin aluminum stringers to reinforce its skin structure. One stringer is analysed to ensure it can safely withstand compressive loads without buckling. The aluminum stringer has a thin-walled rectangular cross-section and is simply supported at both ends. It is subjected to a compressive load applied along its longitudinal axis.\n",
    "\n",
    "#### Stringer Dimensions:\n",
    "- Cross-section type: Thin-walled rectangular section (open channel).\n",
    "- Length (L) = 1.2 m (1200 mm).\n",
    "- Cross-section dimensions:\n",
    "    - Height (h) = 25 mm\n",
    "    - Width (b) = 15 mm\n",
    "    - Wall thickness (t) = 1.5 mm (thin-walled assumption)\n",
    "- Material Properties (Aluminum Alloy 2024-T3):\n",
    "    - Young’s Modulus (E) = 73 GPa (73,000 MPa)\n",
    "    - Poisson’s ratio (ν) = 0.33\n",
    "    - Yield strength ($\\sigma_{y}$)= 345 MPa\n",
    "    - Density ($\\rho$) = 2780 kg/m³ (if needed for weight calculations)\n",
    "\n",
    "#### Boundary Conditions:\n",
    "- Support conditions: Simply supported at both ends (pin-pin supports).\n",
    "- Load type: Axial compressive load applied at the centroidal axis of the cross-section (pure compression)."
   ]
  },
  {
   "cell_type": "markdown",
   "metadata": {},
   "source": [
    "##### Factor of Safety\n",
    "Factor of safety is assumed to be 1.5\n",
    "Therefore allowable stress would be 230 MPA"
   ]
  },
  {
   "cell_type": "code",
   "execution_count": 12,
   "metadata": {},
   "outputs": [],
   "source": [
    "import numpy as np\n",
    "import matplotlib.pyplot as plt"
   ]
  },
  {
   "cell_type": "code",
   "execution_count": 13,
   "metadata": {},
   "outputs": [
    {
     "name": "stdout",
     "output_type": "stream",
     "text": [
      "Moment of Inertia is 0.0 m^4\n",
      "Critical load for buckling is 4444.593 N\n"
     ]
    }
   ],
   "source": [
    "E = 73000e06 #MPa Young's Modulus\n",
    "stress_allowable = 230 #MPa\n",
    "l = 1.2 #m\n",
    "h = 0.025 #m\n",
    "b = 0.015 #m\n",
    "t = 0.0015 #m\n",
    "\n",
    "moment_of_inertia = 1/12*(b*(h**3)-(b-2*t)*((h-2*t)**3)) #m^4\n",
    "print(f\"Moment of Inertia is {round(moment_of_inertia,4)} m^4\")\n",
    "\n",
    "P_cr = ((np.pi**2)*E*moment_of_inertia)/(l**2)\n",
    "print(f\"Critical load for buckling is {round(P_cr,4)} N\")"
   ]
  },
  {
   "cell_type": "code",
   "execution_count": 17,
   "metadata": {},
   "outputs": [
    {
     "name": "stdout",
     "output_type": "stream",
     "text": [
      "The stress generated in the stringer is 45.5856 MPa\n"
     ]
    }
   ],
   "source": [
    "area = t*((2*h)+(b))\n",
    "stress = P_cr/(area*1e6) #MPa\n",
    "print(f\"The stress generated in the stringer is {round(stress,4)} MPa\")"
   ]
  },
  {
   "cell_type": "code",
   "execution_count": null,
   "metadata": {},
   "outputs": [],
   "source": []
  }
 ],
 "metadata": {
  "kernelspec": {
   "display_name": "Python 3",
   "language": "python",
   "name": "python3"
  },
  "language_info": {
   "codemirror_mode": {
    "name": "ipython",
    "version": 3
   },
   "file_extension": ".py",
   "mimetype": "text/x-python",
   "name": "python",
   "nbconvert_exporter": "python",
   "pygments_lexer": "ipython3",
   "version": "3.13.2"
  }
 },
 "nbformat": 4,
 "nbformat_minor": 2
}
